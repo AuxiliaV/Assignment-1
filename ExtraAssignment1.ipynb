{
 "cells": [
  {
   "cell_type": "code",
   "execution_count": null,
   "id": "8840e220-caae-48e1-a6d8-f67dbbfdb63a",
   "metadata": {},
   "outputs": [],
   "source": [
    " #print Statement "
   ]
  },
  {
   "cell_type": "code",
   "execution_count": 1,
   "id": "0beccfdd-1a53-402c-a408-96988b3d36e3",
   "metadata": {},
   "outputs": [
    {
     "name": "stdout",
     "output_type": "stream",
     "text": [
      "HOPE AI\n"
     ]
    }
   ],
   "source": [
    "print(\"HOPE AI\")"
   ]
  },
  {
   "cell_type": "code",
   "execution_count": null,
   "id": "cdd8b263-6d56-4d45-a082-56e5d3335282",
   "metadata": {},
   "outputs": [],
   "source": [
    "# Buy input "
   ]
  },
  {
   "cell_type": "code",
   "execution_count": 2,
   "id": "3fa56d1f-8fe1-4aa5-a2f3-3909fb7c1620",
   "metadata": {},
   "outputs": [
    {
     "name": "stdin",
     "output_type": "stream",
     "text": [
      "Enter your Institute Name?: HOPE AI\n"
     ]
    }
   ],
   "source": [
    "inst=input(\"Enter your Institute Name?:\")"
   ]
  },
  {
   "cell_type": "code",
   "execution_count": null,
   "id": "d89873ef-9b84-44cd-8b2e-8f632eeb7ea4",
   "metadata": {},
   "outputs": [],
   "source": [
    "#Buy inputs "
   ]
  },
  {
   "cell_type": "code",
   "execution_count": 4,
   "id": "c3930e6c-fb3f-4fb1-8227-22820587e77a",
   "metadata": {},
   "outputs": [
    {
     "name": "stdin",
     "output_type": "stream",
     "text": [
      "Enter your name: Raj\n",
      "Enter your age: 15\n",
      "Enter your school name: Guru School\n",
      "Enter your Degree: B.E CSE\n"
     ]
    }
   ],
   "source": [
    "name=input(\"Enter your name:\")\n",
    "age=int(input(\"Enter your age:\"))\n",
    "school=input(\"Enter your school name:\")\n",
    "degree=input(\"Enter your Degree:\")"
   ]
  },
  {
   "cell_type": "code",
   "execution_count": null,
   "id": "c39e716f-6d29-4210-a60b-d2ff8ef21f5c",
   "metadata": {},
   "outputs": [],
   "source": [
    "#Addition"
   ]
  },
  {
   "cell_type": "code",
   "execution_count": 6,
   "id": "bdbc7891-6d2e-4917-808c-964ccca8f5e1",
   "metadata": {},
   "outputs": [
    {
     "name": "stdin",
     "output_type": "stream",
     "text": [
      "a= 43\n",
      "b= 34\n"
     ]
    },
    {
     "name": "stdout",
     "output_type": "stream",
     "text": [
      "Add= 77\n"
     ]
    }
   ],
   "source": [
    "a=int(input(\"a=\"))\n",
    "b=int(input(\"b=\"))\n",
    "add=a+b\n",
    "print(\"Add=\",add)"
   ]
  },
  {
   "cell_type": "code",
   "execution_count": null,
   "id": "7a964aa7-06cd-4f9a-8ab1-389b7ec1b2ea",
   "metadata": {},
   "outputs": [],
   "source": [
    "#Subtraction"
   ]
  },
  {
   "cell_type": "code",
   "execution_count": 7,
   "id": "2423db39-39f6-44b5-9ba2-f28849683332",
   "metadata": {},
   "outputs": [
    {
     "name": "stdin",
     "output_type": "stream",
     "text": [
      "a= 43\n",
      "b= 34\n"
     ]
    },
    {
     "name": "stdout",
     "output_type": "stream",
     "text": [
      "Sub= 9\n"
     ]
    }
   ],
   "source": [
    "a=int(input(\"a=\"))\n",
    "b=int(input(\"b=\"))\n",
    "sub=a-b\n",
    "print(\"Sub=\",sub)"
   ]
  },
  {
   "cell_type": "code",
   "execution_count": null,
   "id": "51e14f12-789c-4911-885e-1ecc432592c8",
   "metadata": {},
   "outputs": [],
   "source": [
    "#Multiplication "
   ]
  },
  {
   "cell_type": "code",
   "execution_count": 8,
   "id": "d0e9eb5c-12b9-4a91-a177-929623787f8f",
   "metadata": {},
   "outputs": [
    {
     "name": "stdin",
     "output_type": "stream",
     "text": [
      "a= 63\n",
      "b= 97\n"
     ]
    },
    {
     "name": "stdout",
     "output_type": "stream",
     "text": [
      "Mul= 6111\n"
     ]
    }
   ],
   "source": [
    "a=int(input(\"a=\"))\n",
    "b=int(input(\"b=\"))\n",
    "mul=a*b\n",
    "print(\"Mul=\",mul)"
   ]
  },
  {
   "cell_type": "code",
   "execution_count": null,
   "id": "34974270-dcbe-4862-bafd-c4c58730782d",
   "metadata": {},
   "outputs": [],
   "source": [
    "#Division "
   ]
  },
  {
   "cell_type": "code",
   "execution_count": 12,
   "id": "4689508b-faf9-4268-a525-35646c402928",
   "metadata": {},
   "outputs": [
    {
     "name": "stdin",
     "output_type": "stream",
     "text": [
      "a= 76\n",
      "b= 31\n"
     ]
    },
    {
     "name": "stdout",
     "output_type": "stream",
     "text": [
      "Float Div= 2.4516129032258065\n"
     ]
    }
   ],
   "source": [
    "a=float(input(\"a=\"))\n",
    "b=float(input(\"b=\"))\n",
    "div=a/b\n",
    "print(\"Float Div=\",div)"
   ]
  },
  {
   "cell_type": "code",
   "execution_count": null,
   "id": "6b49b12a-9eaa-4ff3-8f61-19ddf10a577e",
   "metadata": {},
   "outputs": [],
   "source": [
    "#Floor division "
   ]
  },
  {
   "cell_type": "code",
   "execution_count": 14,
   "id": "4351a13e-3455-44f4-971f-132fc326aacf",
   "metadata": {},
   "outputs": [
    {
     "name": "stdin",
     "output_type": "stream",
     "text": [
      "a= 76\n",
      "b= 31\n"
     ]
    },
    {
     "name": "stdout",
     "output_type": "stream",
     "text": [
      "Floor Div= 2\n"
     ]
    }
   ],
   "source": [
    "a=int(input(\"a=\"))\n",
    "b=int(input(\"b=\"))\n",
    "div=a//b\n",
    "print(\"Floor Div=\",div)"
   ]
  },
  {
   "cell_type": "code",
   "execution_count": null,
   "id": "55510d9a-c099-49e4-9494-0a76ecf24076",
   "metadata": {},
   "outputs": [],
   "source": [
    "#Modulo "
   ]
  },
  {
   "cell_type": "code",
   "execution_count": 15,
   "id": "aceaedb9-dfc4-451f-aeb0-e11e5aa1a927",
   "metadata": {},
   "outputs": [
    {
     "name": "stdin",
     "output_type": "stream",
     "text": [
      "a= 76\n",
      "b= 31\n"
     ]
    },
    {
     "name": "stdout",
     "output_type": "stream",
     "text": [
      "Modulo= 14\n"
     ]
    }
   ],
   "source": [
    "a=int(input(\"a=\"))\n",
    "b=int(input(\"b=\"))\n",
    "Mod=a%b\n",
    "print(\"Modulo=\",Mod)"
   ]
  },
  {
   "cell_type": "code",
   "execution_count": null,
   "id": "533ccac4-997f-4fef-b7de-ac10850f016f",
   "metadata": {},
   "outputs": [],
   "source": [
    "#Power "
   ]
  },
  {
   "cell_type": "code",
   "execution_count": 16,
   "id": "5ad408e8-9ace-4a88-bee5-59770368f52b",
   "metadata": {},
   "outputs": [
    {
     "name": "stdin",
     "output_type": "stream",
     "text": [
      "a= 4\n",
      "b= 4\n"
     ]
    },
    {
     "name": "stdout",
     "output_type": "stream",
     "text": [
      "Power= 256\n"
     ]
    }
   ],
   "source": [
    "a=int(input(\"a=\"))\n",
    "b=int(input(\"b=\"))\n",
    "pow=a**b\n",
    "print(\"Power=\",pow)"
   ]
  }
 ],
 "metadata": {
  "kernelspec": {
   "display_name": "Python [conda env:base] *",
   "language": "python",
   "name": "conda-base-py"
  },
  "language_info": {
   "codemirror_mode": {
    "name": "ipython",
    "version": 3
   },
   "file_extension": ".py",
   "mimetype": "text/x-python",
   "name": "python",
   "nbconvert_exporter": "python",
   "pygments_lexer": "ipython3",
   "version": "3.12.7"
  }
 },
 "nbformat": 4,
 "nbformat_minor": 5
}
