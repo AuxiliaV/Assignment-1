{
 "cells": [
  {
   "cell_type": "code",
   "execution_count": null,
   "id": "6cb9c00c-8dae-4280-af58-b37f1d1fbafa",
   "metadata": {},
   "outputs": [],
   "source": [
    "# print 0 to 20 by using range "
   ]
  },
  {
   "cell_type": "code",
   "execution_count": 1,
   "id": "548605ba-5f2b-4937-b107-30a24a4993d3",
   "metadata": {},
   "outputs": [
    {
     "name": "stdout",
     "output_type": "stream",
     "text": [
      "0\n",
      "1\n",
      "2\n",
      "3\n",
      "4\n",
      "5\n",
      "6\n",
      "7\n",
      "8\n",
      "9\n",
      "10\n",
      "11\n",
      "12\n",
      "13\n",
      "14\n",
      "15\n",
      "16\n",
      "17\n",
      "18\n",
      "19\n"
     ]
    }
   ],
   "source": [
    "for ran in range(0,20):\n",
    "    print(ran)"
   ]
  },
  {
   "cell_type": "code",
   "execution_count": null,
   "id": "7541f408-bd14-49dc-9c94-1134fd261533",
   "metadata": {},
   "outputs": [],
   "source": [
    " # print range 10 to 20"
   ]
  },
  {
   "cell_type": "code",
   "execution_count": 2,
   "id": "30273818-6a0c-45dc-b9b9-683687b69390",
   "metadata": {},
   "outputs": [
    {
     "name": "stdout",
     "output_type": "stream",
     "text": [
      "10\n",
      "11\n",
      "12\n",
      "13\n",
      "14\n",
      "15\n",
      "16\n",
      "17\n",
      "18\n",
      "19\n"
     ]
    }
   ],
   "source": [
    "for ran in range(10,20):\n",
    "    print(ran)"
   ]
  },
  {
   "cell_type": "code",
   "execution_count": null,
   "id": "28764ea5-82cf-44d8-9d65-87b110981a9d",
   "metadata": {},
   "outputs": [],
   "source": [
    " # Print number of items in the list by using 'len' "
   ]
  },
  {
   "cell_type": "code",
   "execution_count": 4,
   "id": "f944dbd2-c45d-464c-9b21-a639992ec177",
   "metadata": {},
   "outputs": [
    {
     "name": "stdout",
     "output_type": "stream",
     "text": [
      "Number of item in the List2: 7\n"
     ]
    }
   ],
   "source": [
    "List2=[10,20,14,55,43,87,76]\n",
    "items=len(List2)\n",
    "print(\"Number of item in the List2:\",items)"
   ]
  },
  {
   "cell_type": "code",
   "execution_count": 5,
   "id": "67122326-1b99-4d99-819f-d58b79472a5a",
   "metadata": {},
   "outputs": [
    {
     "name": "stdin",
     "output_type": "stream",
     "text": [
      " Artificial Intelligence\n"
     ]
    },
    {
     "name": "stdout",
     "output_type": "stream",
     "text": [
      "A\n",
      "r\n",
      "t\n",
      "i\n",
      "f\n",
      "i\n",
      "c\n",
      "i\n",
      "a\n",
      "l\n",
      " \n",
      "I\n",
      "n\n",
      "t\n",
      "e\n",
      "l\n",
      "l\n",
      "i\n",
      "g\n",
      "e\n",
      "n\n",
      "c\n",
      "e\n"
     ]
    }
   ],
   "source": [
    "word=input()\n",
    "for Word in word:\n",
    "    print(Word)"
   ]
  },
  {
   "cell_type": "code",
   "execution_count": 6,
   "id": "32a0627e-e1bf-4677-b3e3-878a3b0799a0",
   "metadata": {},
   "outputs": [
    {
     "name": "stdin",
     "output_type": "stream",
     "text": [
      " Auxilia\n",
      " 30\n",
      " Business\n"
     ]
    }
   ],
   "source": [
    "name=input()\n",
    "age=int(input())\n",
    "prof=input()"
   ]
  },
  {
   "cell_type": "code",
   "execution_count": null,
   "id": "4a8c9696-33a7-47fc-ae50-a364d330a295",
   "metadata": {},
   "outputs": [],
   "source": [
    "# Print this mixered datatype using Tuples "
   ]
  },
  {
   "cell_type": "code",
   "execution_count": 7,
   "id": "127ce8d9-f825-4e0e-893b-1083437d1e8d",
   "metadata": {},
   "outputs": [
    {
     "name": "stdout",
     "output_type": "stream",
     "text": [
      "(1, 'Welcome', 2, 'Hope')\n"
     ]
    }
   ],
   "source": [
    "tup=(1,'Welcome',2,'Hope')\n",
    "print(tup)"
   ]
  },
  {
   "cell_type": "code",
   "execution_count": 8,
   "id": "e09cab5a-13e6-4801-9100-c691a9aa9178",
   "metadata": {},
   "outputs": [
    {
     "name": "stdout",
     "output_type": "stream",
     "text": [
      "((0, 1, 2, 3), ('python', 'HOPE'))\n"
     ]
    }
   ],
   "source": [
    "tup1=(0,1,2,3)\n",
    "tup2=('python','HOPE')\n",
    "tup3=(tup1,tup2)\n",
    "print(tup3)"
   ]
  },
  {
   "cell_type": "code",
   "execution_count": null,
   "id": "135d4e62-4450-45d1-8d2e-5222a611e395",
   "metadata": {},
   "outputs": [],
   "source": [
    "# print Odd Numbers in the list"
   ]
  },
  {
   "cell_type": "code",
   "execution_count": 32,
   "id": "9c7a253f-c9cf-4051-94b4-e4e26a72c49a",
   "metadata": {},
   "outputs": [
    {
     "name": "stdout",
     "output_type": "stream",
     "text": [
      "19 is odd\n",
      "25 is odd\n",
      "1 is odd\n"
     ]
    }
   ],
   "source": [
    "num=[20,10,16,19,25,1,276,188]\n",
    "for value in num:\n",
    "    if (value%2==1):\n",
    "        print(value,\"is odd\")"
   ]
  },
  {
   "cell_type": "code",
   "execution_count": null,
   "id": "ad330841-8d8b-4a03-9450-12a08c683695",
   "metadata": {},
   "outputs": [],
   "source": [
    "# print Even numbers in the list "
   ]
  },
  {
   "cell_type": "code",
   "execution_count": 33,
   "id": "56343108-8c72-4e21-874f-090625435718",
   "metadata": {},
   "outputs": [
    {
     "name": "stdout",
     "output_type": "stream",
     "text": [
      "20 is even\n",
      "10 is even\n",
      "16 is even\n",
      "276 is even\n",
      "188 is even\n"
     ]
    }
   ],
   "source": [
    "num=[20,10,16,19,25,1,276,188]\n",
    "for value in num:\n",
    "    if (value%2==0):\n",
    "        print(value,\"is even\")"
   ]
  },
  {
   "cell_type": "code",
   "execution_count": null,
   "id": "aa38822f-1b7b-404f-a869-7199756fb3d0",
   "metadata": {},
   "outputs": [],
   "source": []
  }
 ],
 "metadata": {
  "kernelspec": {
   "display_name": "Python [conda env:base] *",
   "language": "python",
   "name": "conda-base-py"
  },
  "language_info": {
   "codemirror_mode": {
    "name": "ipython",
    "version": 3
   },
   "file_extension": ".py",
   "mimetype": "text/x-python",
   "name": "python",
   "nbconvert_exporter": "python",
   "pygments_lexer": "ipython3",
   "version": "3.12.7"
  }
 },
 "nbformat": 4,
 "nbformat_minor": 5
}
