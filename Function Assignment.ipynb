{
 "cells": [
  {
   "cell_type": "code",
   "execution_count": null,
   "id": "d65c3440-2208-4d95-ae95-d4879f9172b8",
   "metadata": {},
   "outputs": [],
   "source": [
    "# Create a class and function, and list out the items in the list"
   ]
  },
  {
   "cell_type": "code",
   "execution_count": 1,
   "id": "0246b8e4-23ce-4589-8e3a-a182992d8637",
   "metadata": {},
   "outputs": [],
   "source": [
    "def Subfields():\n",
    "    #print(\"Sub-fields in AI are:\\nMachine Learning\\nNeural Networks\\nVision\\nRobotics\\nSpeech Processing\\nNatural Language Processing\")\n",
    "    List=[\"Sub-fields in AI are:\",\"Machine Learning\",\"Neural Network\",\"Vision\",\"Robotics\",\"Speech Processing\",\"Natural Language Processing\"]\n",
    "    for word in List:\n",
    "        print(word)"
   ]
  },
  {
   "cell_type": "code",
   "execution_count": 2,
   "id": "ff877ce3-eefc-478d-b165-d74fc282795f",
   "metadata": {},
   "outputs": [
    {
     "name": "stdout",
     "output_type": "stream",
     "text": [
      "Sub-fields in AI are:\n",
      "Machine Learning\n",
      "Neural Network\n",
      "Vision\n",
      "Robotics\n",
      "Speech Processing\n",
      "Natural Language Processing\n"
     ]
    }
   ],
   "source": [
    "Subfields()"
   ]
  },
  {
   "cell_type": "code",
   "execution_count": null,
   "id": "36cb5571-bc43-4dc0-bf6d-147df8fe9d97",
   "metadata": {},
   "outputs": [],
   "source": [
    "# Create a function that checks whether the given number is Odd or Even"
   ]
  },
  {
   "cell_type": "code",
   "execution_count": 3,
   "id": "47228de7-6f77-43f3-9cc1-033a68842373",
   "metadata": {},
   "outputs": [],
   "source": [
    "def OddEven(num):\n",
    "    if(num%2==0):\n",
    "        print(num,\"is Even number\")\n",
    "    else:\n",
    "        print(num,\"is Odd number\")"
   ]
  },
  {
   "cell_type": "code",
   "execution_count": 4,
   "id": "398a9ff1-2729-49d8-a71f-db97d912b4a8",
   "metadata": {},
   "outputs": [
    {
     "name": "stdin",
     "output_type": "stream",
     "text": [
      "Enter a Number: 52452\n"
     ]
    },
    {
     "name": "stdout",
     "output_type": "stream",
     "text": [
      "52452 is Even number\n"
     ]
    }
   ],
   "source": [
    "Num=int(input(\"Enter a Number:\"))\n",
    "OddEven(Num)"
   ]
  },
  {
   "cell_type": "code",
   "execution_count": null,
   "id": "2e45b899-2dec-4de9-bbf5-c9d8f0d0dcc5",
   "metadata": {},
   "outputs": [],
   "source": [
    "#Create a function that tells elegibility of marriage for male and female according to their age limit like 21 for male and 18 for female"
   ]
  },
  {
   "cell_type": "code",
   "execution_count": 5,
   "id": "8b42f805-4614-4916-9979-9442235642b1",
   "metadata": {},
   "outputs": [],
   "source": [
    "def ElegiblityForMarriage(Gen,Ag):\n",
    "    if(Gen==\"Male\"):\n",
    "        if(Ag<21):\n",
    "           print(\"NOT ELIGIBLE\")\n",
    "        else:\n",
    "            print(\"ELIGIBLE\")\n",
    "    elif(Gen==\"Female\"):\n",
    "        if(Ag<18):\n",
    "            print(\"NOT ELIGIBLE\")\n",
    "        else:\n",
    "            print(\"ELIGIBLE\")\n",
    "    else:\n",
    "        print(\"INVALID INPUT\")"
   ]
  },
  {
   "cell_type": "code",
   "execution_count": 6,
   "id": "668850fa-a118-4cbc-b005-1673fff58850",
   "metadata": {},
   "outputs": [
    {
     "name": "stdin",
     "output_type": "stream",
     "text": [
      "Your Gender: Male\n",
      "Your Age: 20\n"
     ]
    },
    {
     "name": "stdout",
     "output_type": "stream",
     "text": [
      "NOT ELIGIBLE\n"
     ]
    }
   ],
   "source": [
    "gender=input(\"Your Gender:\")\n",
    "age=int(input(\"Your Age:\"))\n",
    "ElegiblityForMarriage(gender,age)"
   ]
  },
  {
   "cell_type": "code",
   "execution_count": null,
   "id": "f53bfd83-2956-435a-bce3-41e731834865",
   "metadata": {},
   "outputs": [],
   "source": [
    "# calculate the percentage of your 10th mark"
   ]
  },
  {
   "cell_type": "code",
   "execution_count": 11,
   "id": "31976378-4808-4a05-9fd5-85f4b84e1740",
   "metadata": {},
   "outputs": [],
   "source": [
    "def percentage(Tam,Eng,Mat,Sci,Soc):\n",
    "    total=Tam+Eng+Mat+Sci+Soc\n",
    "    per=(total/500)*100\n",
    "    return total,per"
   ]
  },
  {
   "cell_type": "code",
   "execution_count": 12,
   "id": "1178ccc9-0858-4a15-9fa4-0b3fe505ae30",
   "metadata": {},
   "outputs": [
    {
     "name": "stdin",
     "output_type": "stream",
     "text": [
      "Subject1= 98\n",
      "Subject2= 87\n",
      "Subject3= 95\n",
      "Subject4= 95\n",
      "Subject5= 93\n"
     ]
    },
    {
     "name": "stdout",
     "output_type": "stream",
     "text": [
      "Total: 468\n",
      "Percentage: 93.60000000000001\n"
     ]
    }
   ],
   "source": [
    "Sub1=int(input(\"Subject1=\"))\n",
    "Sub2=int(input(\"Subject2=\"))\n",
    "Sub3=int(input(\"Subject3=\"))\n",
    "Sub4=int(input(\"Subject4=\"))\n",
    "Sub5=int(input(\"Subject5=\"))\n",
    "t,p= percentage(Sub1,Sub2,Sub3,Sub4,Sub5)\n",
    "print(\"Total:\",t)\n",
    "print(\"Percentage:\",p)"
   ]
  },
  {
   "cell_type": "code",
   "execution_count": null,
   "id": "1e53fada-1bac-4a41-9991-9dafc5e6f48d",
   "metadata": {},
   "outputs": [],
   "source": [
    "#OR"
   ]
  },
  {
   "cell_type": "code",
   "execution_count": 13,
   "id": "4deac698-6e50-47c9-9e37-0372de362878",
   "metadata": {},
   "outputs": [],
   "source": [
    "def percentage():\n",
    "    Sub1=int(input(\"Subject1=\"))\n",
    "    Sub2=int(input(\"Subject2=\"))\n",
    "    Sub3=int(input(\"Subject3=\"))\n",
    "    Sub4=int(input(\"Subject4=\"))\n",
    "    Sub5=int(input(\"Subject5=\"))\n",
    "    total=Sub1+Sub2+Sub3+Sub4+Sub5\n",
    "    per=(total/500)*100\n",
    "    return total,per"
   ]
  },
  {
   "cell_type": "code",
   "execution_count": 14,
   "id": "29287127-38cf-469b-9fe6-7179f32c43ff",
   "metadata": {},
   "outputs": [
    {
     "name": "stdin",
     "output_type": "stream",
     "text": [
      "Subject1= 98\n",
      "Subject2= 87\n",
      "Subject3= 95\n",
      "Subject4= 95\n",
      "Subject5= 93\n"
     ]
    },
    {
     "name": "stdout",
     "output_type": "stream",
     "text": [
      "Total: 468\n",
      "Percentage: 93.60000000000001\n"
     ]
    }
   ],
   "source": [
    "t,p= percentage()\n",
    "print(\"Total:\",t)\n",
    "print(\"Percentage:\",p)"
   ]
  },
  {
   "cell_type": "code",
   "execution_count": null,
   "id": "54bbb12a-d9c4-4f41-a24a-c9bf790a06fa",
   "metadata": {},
   "outputs": [],
   "source": [
    "#print area and perimeter of triangle using class and functions"
   ]
  },
  {
   "cell_type": "code",
   "execution_count": 15,
   "id": "4a199982-8b73-4e86-a179-a9ea01f3f130",
   "metadata": {},
   "outputs": [],
   "source": [
    "def Area():\n",
    "    Height=int(input(\"Height:\"))\n",
    "    Breadth=int(input(\"Breadth:\"))\n",
    "    formula=(Height*Breadth)/2\n",
    "    print(\"Area formula: (Height*Breadth)/2\")\n",
    "    return formula\n",
    "def Perimeter():\n",
    "    Height1=int(input(\"Height1:\"))\n",
    "    Height2=int(input(\"Height2:\"))\n",
    "    Breadth=int(input(\"Breadth:\"))\n",
    "    formula=Height1+Height2+Breadth\n",
    "    print(\"Perimeter formula: Height1+Height2+Breadth\")\n",
    "    return formula"
   ]
  },
  {
   "cell_type": "code",
   "execution_count": 17,
   "id": "7330f7b8-060d-4a6f-8b94-a4402d162b9b",
   "metadata": {},
   "outputs": [
    {
     "name": "stdin",
     "output_type": "stream",
     "text": [
      "Height: 32\n",
      "Breadth: 34\n"
     ]
    },
    {
     "name": "stdout",
     "output_type": "stream",
     "text": [
      "Area formula: (Height*Breadth)/2\n",
      "Area of Triangle: 544.0\n"
     ]
    },
    {
     "name": "stdin",
     "output_type": "stream",
     "text": [
      "Height1: 2\n",
      "Height2: 4\n",
      "Breadth: 4\n"
     ]
    },
    {
     "name": "stdout",
     "output_type": "stream",
     "text": [
      "Perimeter formula: Height1+Height2+Breadth\n",
      "Perimeter of Triangle: 10\n"
     ]
    }
   ],
   "source": [
    "area=Area()\n",
    "print(\"Area of Triangle:\",area)\n",
    "perimeter=Perimeter()\n",
    "print(\"Perimeter of Triangle:\",perimeter)"
   ]
  },
  {
   "cell_type": "code",
   "execution_count": null,
   "id": "6dd14a07-2c1d-4551-b9de-8942d4097d5c",
   "metadata": {},
   "outputs": [],
   "source": []
  }
 ],
 "metadata": {
  "kernelspec": {
   "display_name": "Python [conda env:base] *",
   "language": "python",
   "name": "conda-base-py"
  },
  "language_info": {
   "codemirror_mode": {
    "name": "ipython",
    "version": 3
   },
   "file_extension": ".py",
   "mimetype": "text/x-python",
   "name": "python",
   "nbconvert_exporter": "python",
   "pygments_lexer": "ipython3",
   "version": "3.12.7"
  }
 },
 "nbformat": 4,
 "nbformat_minor": 5
}
