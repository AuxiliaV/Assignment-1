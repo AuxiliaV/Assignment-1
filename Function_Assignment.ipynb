{
 "cells": [
  {
   "cell_type": "code",
   "execution_count": null,
   "id": "b3bcb445-3859-4801-a171-2160686ec755",
   "metadata": {},
   "outputs": [],
   "source": [
    "# Create a class and function, and list out the items in the list"
   ]
  },
  {
   "cell_type": "code",
   "execution_count": 4,
   "id": "da887ad2-831a-4dd6-954b-b00fba7d9e8f",
   "metadata": {},
   "outputs": [],
   "source": [
    "def Subfields():\n",
    "    print(\"Sub-fields in AI are:\\nMachine Learning\\nNeural Networks\\nVision\\nRobotics\\nSpeech Processing\\nNatural Language Processing\")"
   ]
  },
  {
   "cell_type": "code",
   "execution_count": 5,
   "id": "6f3681c7-dd6a-44ed-baec-86e4a752bcef",
   "metadata": {},
   "outputs": [
    {
     "name": "stdout",
     "output_type": "stream",
     "text": [
      "Sub-fields in AI are:\n",
      "Machine Learning\n",
      "Neural Networks\n",
      "Vision\n",
      "Robotics\n",
      "Speech Processing\n",
      "Natural Language Processing\n"
     ]
    }
   ],
   "source": [
    "Subfields()"
   ]
  },
  {
   "cell_type": "code",
   "execution_count": null,
   "id": "c223fac5-451a-4598-a619-ffacaafc2695",
   "metadata": {},
   "outputs": [],
   "source": [
    "# Create a function that checks whether the given number is Odd or Even"
   ]
  },
  {
   "cell_type": "code",
   "execution_count": 6,
   "id": "91df9ef2-dceb-4547-be95-8348458c9f57",
   "metadata": {},
   "outputs": [],
   "source": [
    "def OddEven(num):\n",
    "    if(num%2==0):\n",
    "        print(num,\"is Even number\")\n",
    "    else:\n",
    "        print(num,\"is Odd number\")"
   ]
  },
  {
   "cell_type": "code",
   "execution_count": 7,
   "id": "096a4e80-d60c-495f-9e98-6f4fa4d66e88",
   "metadata": {},
   "outputs": [
    {
     "name": "stdin",
     "output_type": "stream",
     "text": [
      "Enter a Number: 52452\n"
     ]
    },
    {
     "name": "stdout",
     "output_type": "stream",
     "text": [
      "52452 is Even number\n"
     ]
    }
   ],
   "source": [
    "Num=int(input(\"Enter a Number:\"))\n",
    "OddEven(Num)"
   ]
  },
  {
   "cell_type": "code",
   "execution_count": null,
   "id": "3a3e03d5-8df7-4176-b9cb-8a74c4111d33",
   "metadata": {},
   "outputs": [],
   "source": [
    "#Create a function that tells elegibility of marriage for male and female according to their age limit like 21 for male and 18 for female"
   ]
  },
  {
   "cell_type": "code",
   "execution_count": 20,
   "id": "c0158bf9-8e20-4e07-b84d-5aa019991759",
   "metadata": {},
   "outputs": [],
   "source": [
    "def ElegiblityForMarriage(Gen,Ag):\n",
    "    if(Gen==\"Male\"):\n",
    "        if(Ag<21):\n",
    "           print(\"NOT ELIGIBLE\")\n",
    "        else:\n",
    "            print(\"ELIGIBLE\")\n",
    "    elif(Gen==\"Female\"):\n",
    "        if(Ag<18):\n",
    "            print(\"NOT ELIGIBLE\")\n",
    "        else:\n",
    "            print(\"ELIGIBLE\")\n",
    "    else:\n",
    "        print(\"INVALID INPUT\")"
   ]
  },
  {
   "cell_type": "code",
   "execution_count": 23,
   "id": "74fd8575-d878-4257-83aa-4ad5cf2ebd41",
   "metadata": {},
   "outputs": [
    {
     "name": "stdin",
     "output_type": "stream",
     "text": [
      "Your Gender: Male\n",
      "Your Age: 20\n"
     ]
    },
    {
     "name": "stdout",
     "output_type": "stream",
     "text": [
      "NOT ELIGIBLE\n"
     ]
    }
   ],
   "source": [
    "gender=input(\"Your Gender:\")\n",
    "age=int(input(\"Your Age:\"))\n",
    "ElegiblityForMarriage(gender,age)"
   ]
  },
  {
   "cell_type": "code",
   "execution_count": null,
   "id": "5fe1e83f-a39b-4b74-b6e3-85a00abb08cc",
   "metadata": {},
   "outputs": [],
   "source": [
    "# calculate the percentage of your 10th mark"
   ]
  },
  {
   "cell_type": "code",
   "execution_count": 27,
   "id": "badd7a4f-f2ab-4043-9539-456526c6ed29",
   "metadata": {},
   "outputs": [],
   "source": [
    "def percentage(Tam,Eng,Mat,Sci,Soc):\n",
    "    total=Tam+Eng+Mat+Sci+Soc\n",
    "    per=(total/500)*100\n",
    "    return total,per"
   ]
  },
  {
   "cell_type": "code",
   "execution_count": 28,
   "id": "db4c16f8-815b-4634-80e6-179d2ee9c447",
   "metadata": {},
   "outputs": [
    {
     "name": "stdin",
     "output_type": "stream",
     "text": [
      "Subject1= 98\n",
      "Subject2= 87\n",
      "Subject3= 95\n",
      "Subject4= 95\n",
      "Subject5= 93\n"
     ]
    },
    {
     "name": "stdout",
     "output_type": "stream",
     "text": [
      "Total: 468\n",
      "Percentage: 93.60000000000001\n"
     ]
    }
   ],
   "source": [
    "Sub1=int(input(\"Subject1=\"))\n",
    "Sub2=int(input(\"Subject2=\"))\n",
    "Sub3=int(input(\"Subject3=\"))\n",
    "Sub4=int(input(\"Subject4=\"))\n",
    "Sub5=int(input(\"Subject5=\"))\n",
    "t,p= percentage(Sub1,Sub2,Sub3,Sub4,Sub5)\n",
    "print(\"Total:\",t)\n",
    "print(\"Percentage:\",p)"
   ]
  },
  {
   "cell_type": "code",
   "execution_count": null,
   "id": "53c91c7c-b6cc-49fe-ad82-fc3da86bf006",
   "metadata": {},
   "outputs": [],
   "source": [
    "#OR"
   ]
  },
  {
   "cell_type": "code",
   "execution_count": 29,
   "id": "bc1e0643-370b-404e-afe2-2aff7c92d9c3",
   "metadata": {},
   "outputs": [],
   "source": [
    "def percentage():\n",
    "    Sub1=int(input(\"Subject1=\"))\n",
    "    Sub2=int(input(\"Subject2=\"))\n",
    "    Sub3=int(input(\"Subject3=\"))\n",
    "    Sub4=int(input(\"Subject4=\"))\n",
    "    Sub5=int(input(\"Subject5=\"))\n",
    "    total=Sub1+Sub2+Sub3+Sub4+Sub5\n",
    "    per=(total/500)*100\n",
    "    return total,per"
   ]
  },
  {
   "cell_type": "code",
   "execution_count": 30,
   "id": "dd20d266-d39e-4078-bb3e-b6d20298f7bb",
   "metadata": {},
   "outputs": [
    {
     "name": "stdin",
     "output_type": "stream",
     "text": [
      "Subject1= 98\n",
      "Subject2= 87\n",
      "Subject3= 95\n",
      "Subject4= 95\n",
      "Subject5= 93\n"
     ]
    },
    {
     "name": "stdout",
     "output_type": "stream",
     "text": [
      "Total: 468\n",
      "Percentage: 93.60000000000001\n"
     ]
    }
   ],
   "source": [
    "t,p= percentage()\n",
    "print(\"Total:\",t)\n",
    "print(\"Percentage:\",p)"
   ]
  },
  {
   "cell_type": "code",
   "execution_count": null,
   "id": "c31d31a3-5f4a-41bb-9b01-f99c4bc55826",
   "metadata": {},
   "outputs": [],
   "source": [
    "#print area and perimeter of triangle using class and functions"
   ]
  },
  {
   "cell_type": "code",
   "execution_count": 35,
   "id": "b8d49c47-c1bf-4d93-873d-8bbb7763b4d9",
   "metadata": {},
   "outputs": [],
   "source": [
    "def Area():\n",
    "    Height=int(input(\"Height:\"))\n",
    "    Breadth=int(input(\"Breadth:\"))\n",
    "    formula=(Height*Breadth)/2\n",
    "    print(\"Area formula: (Height*Breadth)/2\")\n",
    "    return formula\n",
    "def Perimeter():\n",
    "    Height1=int(input(\"Height1:\"))\n",
    "    Height2=int(input(\"Height2:\"))\n",
    "    Breadth=int(input(\"Breadth:\"))\n",
    "    formula=Height1+Height2+Breadth\n",
    "    print(\"Perimeter formula: Height1+Height2+Breadth\")\n",
    "    return formula"
   ]
  },
  {
   "cell_type": "code",
   "execution_count": 36,
   "id": "7d01422c-cf97-4576-8fb3-3692c9a89026",
   "metadata": {},
   "outputs": [
    {
     "name": "stdin",
     "output_type": "stream",
     "text": [
      "Height: 32\n",
      "Breadth: 34\n"
     ]
    },
    {
     "name": "stdout",
     "output_type": "stream",
     "text": [
      "Area formula: (Height*Breadth)/2\n",
      "Area of Triangle: 544.0\n"
     ]
    },
    {
     "name": "stdin",
     "output_type": "stream",
     "text": [
      "Height1: 2\n",
      "Height2: 4\n",
      "Breadth: 4\n"
     ]
    },
    {
     "name": "stdout",
     "output_type": "stream",
     "text": [
      "Perimeter formula: Height1+Height2+Breadth\n",
      "Perimeter of Triangle: 10\n"
     ]
    }
   ],
   "source": [
    "area=Area()\n",
    "print(\"Area of Triangle:\",area)\n",
    "perimeter=Perimeter()\n",
    "print(\"Perimeter of Triangle:\",perimeter)"
   ]
  },
  {
   "cell_type": "code",
   "execution_count": null,
   "id": "40ba30f9-74bb-4e93-97d6-e3810141aa59",
   "metadata": {},
   "outputs": [],
   "source": []
  }
 ],
 "metadata": {
  "kernelspec": {
   "display_name": "Python [conda env:base] *",
   "language": "python",
   "name": "conda-base-py"
  },
  "language_info": {
   "codemirror_mode": {
    "name": "ipython",
    "version": 3
   },
   "file_extension": ".py",
   "mimetype": "text/x-python",
   "name": "python",
   "nbconvert_exporter": "python",
   "pygments_lexer": "ipython3",
   "version": "3.12.7"
  }
 },
 "nbformat": 4,
 "nbformat_minor": 5
}
